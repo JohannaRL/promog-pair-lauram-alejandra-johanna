{
 "cells": [
  {
   "cell_type": "code",
   "execution_count": 1,
   "metadata": {},
   "outputs": [],
   "source": [
    "import numpy as np"
   ]
  },
  {
   "cell_type": "code",
   "execution_count": 4,
   "metadata": {},
   "outputs": [
    {
     "data": {
      "text/plain": [
       "array([69, 70, 42, 67, 13, 61, 94, 62, 41, 22, 86, 28, 71, 30, 95, 55, 44,\n",
       "       49, 25, 88, 95, 75, 42, 13, 48, 92, 36, 18, 12, 54, 89, 96, 34, 23,\n",
       "       41, 54, 21, 82, 45, 83, 77, 46, 12, 67, 47, 43, 13, 86, 10, 79])"
      ]
     },
     "execution_count": 4,
     "metadata": {},
     "output_type": "execute_result"
    }
   ],
   "source": [
    "# 1. Crea un array 1D con 50 valores aleatorio del 10 al 99. Accede a los elementos en las posiciones múltiplos de 5.\n",
    "\n",
    "array1 = np.random.randint(10,100,50)\n",
    "array1"
   ]
  },
  {
   "cell_type": "code",
   "execution_count": 5,
   "metadata": {},
   "outputs": [
    {
     "data": {
      "text/plain": [
       "array([13, 22, 95, 88, 48, 54, 41, 83, 47, 79])"
      ]
     },
     "execution_count": 5,
     "metadata": {},
     "output_type": "execute_result"
    }
   ],
   "source": [
    "array1 [4::5]"
   ]
  },
  {
   "cell_type": "code",
   "execution_count": 14,
   "metadata": {},
   "outputs": [
    {
     "data": {
      "text/plain": [
       "array([ 7, 17, 14, 12,  2,  7, 16,  7, 13, 17,  6,  7, 17,  9, 18, 18, 17,\n",
       "       13, 15,  2, 10, 11, 15,  7, 20,  2, 15, 14, 17, 14])"
      ]
     },
     "execution_count": 14,
     "metadata": {},
     "output_type": "execute_result"
    }
   ],
   "source": [
    "# 2. Crea un array 1D con 30 valores del 1 al 20 (ambos incluidos). Utiliza indexación para obtener los elementos en las posiciones impares.\n",
    "\n",
    "array2 = np.random.randint(1,21,30)\n",
    "array2\n",
    "\n"
   ]
  },
  {
   "cell_type": "code",
   "execution_count": 18,
   "metadata": {},
   "outputs": [
    {
     "data": {
      "text/plain": [
       "array([ 7, 14,  2, 16, 13,  6, 17, 18, 17, 15, 10, 15, 20, 15, 17])"
      ]
     },
     "execution_count": 18,
     "metadata": {},
     "output_type": "execute_result"
    }
   ],
   "source": [
    "impares = array2[::2]\n",
    "impares"
   ]
  },
  {
   "cell_type": "code",
   "execution_count": 25,
   "metadata": {},
   "outputs": [
    {
     "data": {
      "text/plain": [
       "array([[9, 7, 2, 2, 4, 2],\n",
       "       [8, 9, 4, 8, 3, 3],\n",
       "       [4, 2, 4, 0, 8, 8],\n",
       "       [9, 0, 7, 2, 5, 5]])"
      ]
     },
     "execution_count": 25,
     "metadata": {},
     "output_type": "execute_result"
    }
   ],
   "source": [
    "# 3. Crea un array 2D de forma (4, 6) con números aleatorios decimales (no deben estar comprendidos solo entre 0 y 1). \n",
    "# Accede a la última fila de la matriz. Los decimales deben estar redondeados a 2 decimales.\n",
    "\n",
    "array2d = np.random.randint(0,10, (4,6))\n",
    "array2d"
   ]
  },
  {
   "cell_type": "code",
   "execution_count": 27,
   "metadata": {},
   "outputs": [
    {
     "data": {
      "text/plain": [
       "array([[9., 7., 2., 2., 4., 2.],\n",
       "       [8., 9., 4., 8., 3., 3.],\n",
       "       [4., 2., 4., 0., 8., 8.],\n",
       "       [9., 0., 7., 2., 5., 5.]])"
      ]
     },
     "execution_count": 27,
     "metadata": {},
     "output_type": "execute_result"
    }
   ],
   "source": [
    "array2d = array2d.astype(float)\n",
    "array2d"
   ]
  },
  {
   "cell_type": "code",
   "execution_count": 28,
   "metadata": {},
   "outputs": [],
   "source": [
    "array2d = array2d.astype(float)"
   ]
  },
  {
   "cell_type": "code",
   "execution_count": 30,
   "metadata": {},
   "outputs": [
    {
     "data": {
      "text/plain": [
       "array([9., 0., 7., 2., 5., 5.])"
      ]
     },
     "execution_count": 30,
     "metadata": {},
     "output_type": "execute_result"
    }
   ],
   "source": [
    "array2round = np.round(array2d, 2)\n",
    "array2round[-1]"
   ]
  },
  {
   "cell_type": "code",
   "execution_count": 32,
   "metadata": {},
   "outputs": [
    {
     "data": {
      "text/plain": [
       "array([[0.73, 0.34, 0.72, 0.4 ],\n",
       "       [0.08, 0.6 , 0.65, 0.03],\n",
       "       [0.84, 0.95, 0.8 , 0.94],\n",
       "       [0.92, 0.25, 0.1 , 0.16],\n",
       "       [0.8 , 0.54, 0.42, 0.31],\n",
       "       [0.39, 0.12, 0.87, 0.32]])"
      ]
     },
     "execution_count": 32,
     "metadata": {},
     "output_type": "execute_result"
    }
   ],
   "source": [
    "# 4. Crea un array NumPy 2D de forma (6, 4) con valores decimales entre 0 y 1. Accede a la segunda columna de la matriz. Los números deben estar redondeados a 2 decimales.\n",
    "\n",
    "array2b =np.random.rand(6,4).round(2)\n",
    "array2b"
   ]
  },
  {
   "cell_type": "code",
   "execution_count": 33,
   "metadata": {},
   "outputs": [
    {
     "data": {
      "text/plain": [
       "array([0.34, 0.6 , 0.95, 0.25, 0.54, 0.12])"
      ]
     },
     "execution_count": 33,
     "metadata": {},
     "output_type": "execute_result"
    }
   ],
   "source": [
    "array2b[:,1]"
   ]
  },
  {
   "cell_type": "code",
   "execution_count": 34,
   "metadata": {},
   "outputs": [
    {
     "data": {
      "text/plain": [
       "array([-35,   1,   0, -42,  -3,   4,   0,   0,   0, -27, -35,  16, -39,\n",
       "        10,   5,  45,  30,  -9, -23, -44, -39,  36, -35,   8, -27,  31,\n",
       "        18,  -7,   6,  38])"
      ]
     },
     "execution_count": 34,
     "metadata": {},
     "output_type": "execute_result"
    }
   ],
   "source": [
    "# 5. Crea un array 1D con 30 valores enteros aleatorios entre -50 y 50. Extrae los valores negativos.\n",
    "\n",
    "array1d5 = np.random.randint(-50, 51, 30)\n",
    "array1d5"
   ]
  },
  {
   "cell_type": "code",
   "execution_count": 37,
   "metadata": {},
   "outputs": [
    {
     "data": {
      "text/plain": [
       "array([-35, -42,  -3, -27, -35, -39,  -9, -23, -44, -39, -35, -27,  -7])"
      ]
     },
     "execution_count": 37,
     "metadata": {},
     "output_type": "execute_result"
    }
   ],
   "source": [
    "negativos = array1d5 [array1d5 < 0]\n",
    "negativos"
   ]
  },
  {
   "cell_type": "code",
   "execution_count": 38,
   "metadata": {},
   "outputs": [],
   "source": [
    "# 6. Crea un array 1D con 10 valores entre 0 y 1. Redondea los decimales a 2. \n",
    "# Obtén los elementos cuyo valor es mayor que 0.5. ¿En que posición/es están esos elementos?\n",
    "\n",
    "array10 = np.random.rand(10).round(2)\n",
    "mayor = array10[array10 > 0.5]"
   ]
  },
  {
   "cell_type": "code",
   "execution_count": 40,
   "metadata": {},
   "outputs": [
    {
     "data": {
      "text/plain": [
       "array([0.85, 0.89, 0.02, 0.86, 0.72, 0.8 , 0.69, 0.85, 0.72, 0.31])"
      ]
     },
     "execution_count": 40,
     "metadata": {},
     "output_type": "execute_result"
    }
   ],
   "source": [
    "array10"
   ]
  },
  {
   "cell_type": "code",
   "execution_count": 41,
   "metadata": {},
   "outputs": [
    {
     "data": {
      "text/plain": [
       "array([0.85, 0.89, 0.86, 0.72, 0.8 , 0.69, 0.85, 0.72])"
      ]
     },
     "execution_count": 41,
     "metadata": {},
     "output_type": "execute_result"
    }
   ],
   "source": [
    "mayor"
   ]
  },
  {
   "cell_type": "code",
   "execution_count": 44,
   "metadata": {},
   "outputs": [
    {
     "data": {
      "text/plain": [
       "(array([0, 1, 3, 4, 5, 6, 7, 8]),)"
      ]
     },
     "execution_count": 44,
     "metadata": {},
     "output_type": "execute_result"
    }
   ],
   "source": [
    "array10w = np.where(array10 > 0.5)\n",
    "array10w"
   ]
  },
  {
   "cell_type": "code",
   "execution_count": 52,
   "metadata": {},
   "outputs": [
    {
     "data": {
      "text/plain": [
       "array([19, 38, 77, 73, 26, 49, 15, 30,  2, 65, 86, 79, 29, 29,  9, 81, 65,\n",
       "       30, 28, 97, 78, 30, 12, 35, 42, 90,  1, 80, 61, 93, 56, 63, 84, 76,\n",
       "       60, 54, 41, 95, 43, 41])"
      ]
     },
     "execution_count": 52,
     "metadata": {},
     "output_type": "execute_result"
    }
   ],
   "source": [
    "# 7. Crea un array 1D con 40 valores del 1 al 100 (ambos incluidos). Obtén los elementos que son divisibles por 3 y por 4.\n",
    "\n",
    "array7 = np.random.randint(1,101,40)\n",
    "array7"
   ]
  },
  {
   "cell_type": "code",
   "execution_count": 55,
   "metadata": {},
   "outputs": [
    {
     "data": {
      "text/plain": [
       "array([15, 30,  9, 81, 30, 78, 30, 12, 42, 90, 93, 63, 84, 60, 54])"
      ]
     },
     "execution_count": 55,
     "metadata": {},
     "output_type": "execute_result"
    }
   ],
   "source": [
    "divisible = array7[array7 % 3 == 0]\n",
    "divisible"
   ]
  },
  {
   "cell_type": "code",
   "execution_count": 60,
   "metadata": {},
   "outputs": [
    {
     "data": {
      "text/plain": [
       "array([28, 12, 80, 56, 84, 76, 60])"
      ]
     },
     "execution_count": 60,
     "metadata": {},
     "output_type": "execute_result"
    }
   ],
   "source": [
    "divisible4 = array7[array7 % 4 == 0]\n",
    "divisible4"
   ]
  },
  {
   "cell_type": "code",
   "execution_count": null,
   "metadata": {},
   "outputs": [],
   "source": [
    "# Reshape y Transpose"
   ]
  },
  {
   "cell_type": "code",
   "execution_count": null,
   "metadata": {},
   "outputs": [],
   "source": [
    "# Ejercicios con reshape"
   ]
  },
  {
   "cell_type": "code",
   "execution_count": 61,
   "metadata": {},
   "outputs": [
    {
     "data": {
      "text/plain": [
       "array([[[96, 78, 96, 32],\n",
       "        [88, 18, 22, 93],\n",
       "        [66, 68, 73,  9]],\n",
       "\n",
       "       [[65, 41, 67,  2],\n",
       "        [10, 55, 16, 25],\n",
       "        [93, 94, 54, 69]]])"
      ]
     },
     "execution_count": 61,
     "metadata": {},
     "output_type": "execute_result"
    }
   ],
   "source": [
    "# 1.Crea un array 3D de forma (2, 3, 4) con valores aleatorios entre 1 y 100 (ambos inclusive). \n",
    "# Utiliza reshape para convertirlo en un array 2D. \n",
    "# Deberás pensar en la forma que es correcta para hacer este cambio.\n",
    "\n",
    "array3D = np.random.randint (1,101,(2,3,4))\n",
    "array3D"
   ]
  },
  {
   "cell_type": "code",
   "execution_count": 63,
   "metadata": {},
   "outputs": [
    {
     "data": {
      "text/plain": [
       "array([[96, 78, 96, 32],\n",
       "       [88, 18, 22, 93],\n",
       "       [66, 68, 73,  9],\n",
       "       [65, 41, 67,  2],\n",
       "       [10, 55, 16, 25],\n",
       "       [93, 94, 54, 69]])"
      ]
     },
     "execution_count": 63,
     "metadata": {},
     "output_type": "execute_result"
    }
   ],
   "source": [
    "array2Dd = array3D.reshape(-1, 4)\n",
    "array2Dd"
   ]
  },
  {
   "cell_type": "code",
   "execution_count": 90,
   "metadata": {},
   "outputs": [
    {
     "data": {
      "text/plain": [
       "array([[[ 1,  2,  3,  4,  5],\n",
       "        [ 6,  7,  8,  9, 10],\n",
       "        [11, 12, 13, 14, 15],\n",
       "        [16, 17, 18, 19, 20]],\n",
       "\n",
       "       [[21, 22, 23, 24, 25],\n",
       "        [26, 27, 28, 29, 30],\n",
       "        [31, 32, 33, 34, 35],\n",
       "        [36, 37, 38, 39, 40]],\n",
       "\n",
       "       [[41, 42, 43, 44, 45],\n",
       "        [46, 47, 48, 49, 50],\n",
       "        [51, 52, 53, 54, 55],\n",
       "        [56, 57, 58, 59, 60]]])"
      ]
     },
     "execution_count": 90,
     "metadata": {},
     "output_type": "execute_result"
    }
   ],
   "source": [
    "# 2. Crea un array 3D de forma (3, 4, 5) con valores enteros del 1 al 60 (sin incluir). Utiliza reshape para convertirlo en un array 2D.\n",
    "# Con el 60 nos sale error. \n",
    "array2r = np.arange(1, 61).reshape(3, 4, 5)\n",
    "array2r"
   ]
  },
  {
   "cell_type": "code",
   "execution_count": 96,
   "metadata": {},
   "outputs": [
    {
     "data": {
      "text/plain": [
       "array([[ 1,  2,  3,  4,  5],\n",
       "       [ 6,  7,  8,  9, 10],\n",
       "       [11, 12, 13, 14, 15],\n",
       "       [16, 17, 18, 19, 20],\n",
       "       [21, 22, 23, 24, 25],\n",
       "       [26, 27, 28, 29, 30],\n",
       "       [31, 32, 33, 34, 35],\n",
       "       [36, 37, 38, 39, 40],\n",
       "       [41, 42, 43, 44, 45],\n",
       "       [46, 47, 48, 49, 50],\n",
       "       [51, 52, 53, 54, 55],\n",
       "       [56, 57, 58, 59, 60]])"
      ]
     },
     "execution_count": 96,
     "metadata": {},
     "output_type": "execute_result"
    }
   ],
   "source": [
    "array2Dr = array2r.reshape(-1,5)\n",
    "array2Dr"
   ]
  },
  {
   "cell_type": "code",
   "execution_count": 97,
   "metadata": {},
   "outputs": [
    {
     "data": {
      "text/plain": [
       "array([[[0.70860374, 0.36637518],\n",
       "        [0.81335154, 0.33833912],\n",
       "        [0.92790387, 0.89495686]],\n",
       "\n",
       "       [[0.28438384, 0.87044395],\n",
       "        [0.2137098 , 0.48683291],\n",
       "        [0.19809332, 0.08155711]],\n",
       "\n",
       "       [[0.36854371, 0.09478137],\n",
       "        [0.95691275, 0.32511808],\n",
       "        [0.42511137, 0.2187008 ]],\n",
       "\n",
       "       [[0.56779671, 0.07850955],\n",
       "        [0.56913359, 0.13850451],\n",
       "        [0.66008734, 0.72903247]]])"
      ]
     },
     "execution_count": 97,
     "metadata": {},
     "output_type": "execute_result"
    }
   ],
   "source": [
    "#3 .Crea un array 3D de forma (4, 3, 2) con valores aleatorios entre 0 y 1. Utiliza reshape para convertirlo en un array 2D.\n",
    "\n",
    "array3r = np.random.rand(4,3,2)\n",
    "array3r"
   ]
  },
  {
   "cell_type": "code",
   "execution_count": 99,
   "metadata": {},
   "outputs": [
    {
     "data": {
      "text/plain": [
       "array([[0.70860374, 0.36637518],\n",
       "       [0.81335154, 0.33833912],\n",
       "       [0.92790387, 0.89495686],\n",
       "       [0.28438384, 0.87044395],\n",
       "       [0.2137098 , 0.48683291],\n",
       "       [0.19809332, 0.08155711],\n",
       "       [0.36854371, 0.09478137],\n",
       "       [0.95691275, 0.32511808],\n",
       "       [0.42511137, 0.2187008 ],\n",
       "       [0.56779671, 0.07850955],\n",
       "       [0.56913359, 0.13850451],\n",
       "       [0.66008734, 0.72903247]])"
      ]
     },
     "execution_count": 99,
     "metadata": {},
     "output_type": "execute_result"
    }
   ],
   "source": [
    "array3r2d = array3r.reshape(-1,2)\n",
    "array3r2d"
   ]
  },
  {
   "cell_type": "code",
   "execution_count": 8,
   "metadata": {},
   "outputs": [
    {
     "data": {
      "text/plain": [
       "array([[[ 1,  2,  3,  4,  5],\n",
       "        [ 6,  7,  8,  9, 10],\n",
       "        [11, 12, 13, 14, 15],\n",
       "        [16, 17, 18, 19, 20]],\n",
       "\n",
       "       [[21, 22, 23, 24, 25],\n",
       "        [26, 27, 28, 29, 30],\n",
       "        [31, 32, 33, 34, 35],\n",
       "        [36, 37, 38, 39, 40]],\n",
       "\n",
       "       [[41, 42, 43, 44, 45],\n",
       "        [46, 47, 48, 49, 50],\n",
       "        [51, 52, 53, 54, 55],\n",
       "        [56, 57, 58, 59, 60]]])"
      ]
     },
     "execution_count": 8,
     "metadata": {},
     "output_type": "execute_result"
    }
   ],
   "source": [
    "# Ejercicios con transpose:\n",
    "\n",
    "# Utiliza el array 3D del ejercicio 2 de reshape. Utiliza transpose para permutar los ejes y obtener un nuevo array con forma (5, 4, 3).\n",
    "array2r = np.arange(1, 61).reshape(3, 4, 5)\n",
    "array2r\n"
   ]
  },
  {
   "cell_type": "code",
   "execution_count": 10,
   "metadata": {},
   "outputs": [
    {
     "data": {
      "text/plain": [
       "array([[[ 1, 21, 41],\n",
       "        [ 6, 26, 46],\n",
       "        [11, 31, 51],\n",
       "        [16, 36, 56]],\n",
       "\n",
       "       [[ 2, 22, 42],\n",
       "        [ 7, 27, 47],\n",
       "        [12, 32, 52],\n",
       "        [17, 37, 57]],\n",
       "\n",
       "       [[ 3, 23, 43],\n",
       "        [ 8, 28, 48],\n",
       "        [13, 33, 53],\n",
       "        [18, 38, 58]],\n",
       "\n",
       "       [[ 4, 24, 44],\n",
       "        [ 9, 29, 49],\n",
       "        [14, 34, 54],\n",
       "        [19, 39, 59]],\n",
       "\n",
       "       [[ 5, 25, 45],\n",
       "        [10, 30, 50],\n",
       "        [15, 35, 55],\n",
       "        [20, 40, 60]]])"
      ]
     },
     "execution_count": 10,
     "metadata": {},
     "output_type": "execute_result"
    }
   ],
   "source": [
    "arr_transpose = np.transpose(array2r, (2, 1, 0))\n",
    "arr_transpose"
   ]
  },
  {
   "cell_type": "code",
   "execution_count": 11,
   "metadata": {},
   "outputs": [
    {
     "data": {
      "text/plain": [
       "array([[[6.27421899e-01, 6.94120228e-02],\n",
       "        [5.33276902e-01, 9.00133202e-01],\n",
       "        [2.02784120e-02, 2.30725900e-02]],\n",
       "\n",
       "       [[2.57370362e-01, 5.24791102e-01],\n",
       "        [8.72773569e-04, 8.92578137e-01],\n",
       "        [5.38275369e-01, 1.73709151e-01]],\n",
       "\n",
       "       [[2.80291770e-01, 4.36575142e-01],\n",
       "        [5.23808001e-01, 3.06785740e-01],\n",
       "        [6.69792963e-01, 8.18673981e-01]],\n",
       "\n",
       "       [[9.82208350e-02, 6.15163581e-01],\n",
       "        [8.83140365e-01, 2.23171974e-01],\n",
       "        [4.63225288e-01, 7.35775285e-01]]])"
      ]
     },
     "execution_count": 11,
     "metadata": {},
     "output_type": "execute_result"
    }
   ],
   "source": [
    "# Utiliza el array 3D del ejercicio 3 de reshape. Utiliza transpose para cambiar el orden de los ejes y obtener un nuevo array con forma (3, 2, 4).\n",
    "\n",
    "array3r = np.random.rand(4,3,2)\n",
    "array3r\n"
   ]
  },
  {
   "cell_type": "code",
   "execution_count": 13,
   "metadata": {},
   "outputs": [
    {
     "data": {
      "text/plain": [
       "array([[[6.27421899e-01, 2.57370362e-01, 2.80291770e-01, 9.82208350e-02],\n",
       "        [6.94120228e-02, 5.24791102e-01, 4.36575142e-01, 6.15163581e-01]],\n",
       "\n",
       "       [[5.33276902e-01, 8.72773569e-04, 5.23808001e-01, 8.83140365e-01],\n",
       "        [9.00133202e-01, 8.92578137e-01, 3.06785740e-01, 2.23171974e-01]],\n",
       "\n",
       "       [[2.02784120e-02, 5.38275369e-01, 6.69792963e-01, 4.63225288e-01],\n",
       "        [2.30725900e-02, 1.73709151e-01, 8.18673981e-01, 7.35775285e-01]]])"
      ]
     },
     "execution_count": 13,
     "metadata": {},
     "output_type": "execute_result"
    }
   ],
   "source": [
    "arr_transpose = np.transpose(array3r, (1, 2, 0))\n",
    "arr_transpose"
   ]
  },
  {
   "cell_type": "markdown",
   "metadata": {},
   "source": [
    "##### Preguntas teóricas:\n",
    "\n",
    "##### ¿Qué diferencia existe entre el reshape y el transpose?\n",
    "\n",
    "Reshape: cambia la forma de la matriz sin modificar sus elementos, Transpose intercambia filas y columnas de una matriz modificandolas.\n",
    "\n",
    "##### ¿Y entre el transpose y el swapaxes?\n",
    "\n",
    "Con swapaxes intercambias dos ejes especificos de una matriz pero mantiene los demás sin cambios.  "
   ]
  },
  {
   "cell_type": "code",
   "execution_count": null,
   "metadata": {},
   "outputs": [],
   "source": [
    "# Funciones Aritméticas y Estadísticas:\n",
    "\n",
    "\n",
    "# Crea un array de tres 3D con elementos entre el 0 y 1 de forma (2, 3, 5) cuyos valores solo tengan 1 decimal.\n",
    "\n",
    "# Crea un array vacío con la misma forma y dimensiones que el array creado anteriormente. Vamos a reemplazar los valores de la matriz vacía que nos acabamos de crear pero basándonos en los valores del primer array bajo las siguientes condiciones:\n",
    "\n",
    "# Si el valor del array es igual que la media, se reemplaza por \"A\".\n",
    "\n",
    "# Si el valor del array es mayor que la media, se reemplaza por \"B\".\n",
    "\n",
    "# Si el valor del array es menor que la media, se reemplaza por \"C\".\n",
    "\n",
    "# Si el valor es igual que el máximo, se reemplaza por \"D\".\n",
    "\n",
    "# Si el valor es igual que el mínimo, se reemplaza por \"E\"."
   ]
  },
  {
   "cell_type": "code",
   "execution_count": 2,
   "metadata": {},
   "outputs": [
    {
     "data": {
      "text/plain": [
       "array([[[0.2183032 , 0.50427861, 0.46271415, 0.81613688, 0.78433281],\n",
       "        [0.84773912, 0.33221529, 0.24912227, 0.30586148, 0.07734475],\n",
       "        [0.08677633, 0.18916565, 0.23099974, 0.34873598, 0.9490584 ]],\n",
       "\n",
       "       [[0.78587858, 0.63675764, 0.09800055, 0.0507819 , 0.11879946],\n",
       "        [0.53516586, 0.29745318, 0.89973905, 0.57925235, 0.11420179],\n",
       "        [0.18895757, 0.00270178, 0.30302946, 0.31324151, 0.52166964]]])"
      ]
     },
     "execution_count": 2,
     "metadata": {},
     "output_type": "execute_result"
    }
   ],
   "source": [
    "arr =  np.random.random_sample((2,3,5))\n",
    "arr"
   ]
  },
  {
   "cell_type": "code",
   "execution_count": 3,
   "metadata": {},
   "outputs": [],
   "source": [
    "media = np.mean(arr)\n",
    "max = np.max(arr)\n",
    "min = np.min(arr)"
   ]
  },
  {
   "cell_type": "code",
   "execution_count": 4,
   "metadata": {},
   "outputs": [
    {
     "data": {
      "text/plain": [
       "True"
      ]
     },
     "execution_count": 4,
     "metadata": {},
     "output_type": "execute_result"
    }
   ],
   "source": [
    "arr[0][0][3] > media"
   ]
  },
  {
   "cell_type": "code",
   "execution_count": 5,
   "metadata": {},
   "outputs": [
    {
     "data": {
      "text/plain": [
       "array([[['', '', '', '', ''],\n",
       "        ['', '', '', '', ''],\n",
       "        ['', '', '', '', '']],\n",
       "\n",
       "       [['', '', '', '', ''],\n",
       "        ['', '', '', '', ''],\n",
       "        ['', '', '', '', '']]], dtype='<U1')"
      ]
     },
     "execution_count": 5,
     "metadata": {},
     "output_type": "execute_result"
    }
   ],
   "source": [
    "vacio = np.empty_like(arr,dtype=str) # empty_like : la forma del otro array \n",
    "vacio"
   ]
  },
  {
   "cell_type": "code",
   "execution_count": 6,
   "metadata": {},
   "outputs": [],
   "source": [
    "for matriz in range(arr.shape[0]):\n",
    "    for fila in range(arr.shape[1]):\n",
    "        for col in range (arr.shape[2]):\n",
    "            if arr[matriz][fila][col] == media:\n",
    "                    vacio[matriz][fila][col] = \"A\"\n",
    "            elif arr[matriz][fila][col] == max:\n",
    "                    vacio[matriz][fila][col] = \"D\"\n",
    "            elif arr[matriz][fila][col] == min:\n",
    "                    vacio[matriz][fila][col] = \"E\"\n",
    "            elif arr[matriz][fila][col] > media:\n",
    "                    vacio[matriz][fila][col] = \"B\"\n",
    "            elif arr[matriz][fila][col] < media:\n",
    "                    vacio[matriz][fila][col] = \"C\""
   ]
  },
  {
   "cell_type": "code",
   "execution_count": 7,
   "metadata": {},
   "outputs": [
    {
     "data": {
      "text/plain": [
       "array([[['C', 'B', 'B', 'B', 'B'],\n",
       "        ['B', 'C', 'C', 'C', 'C'],\n",
       "        ['C', 'C', 'C', 'C', 'D']],\n",
       "\n",
       "       [['B', 'B', 'C', 'C', 'C'],\n",
       "        ['B', 'C', 'B', 'B', 'C'],\n",
       "        ['C', 'E', 'C', 'C', 'B']]], dtype='<U1')"
      ]
     },
     "execution_count": 7,
     "metadata": {},
     "output_type": "execute_result"
    }
   ],
   "source": [
    "vacio"
   ]
  }
 ],
 "metadata": {
  "kernelspec": {
   "display_name": "base",
   "language": "python",
   "name": "python3"
  },
  "language_info": {
   "codemirror_mode": {
    "name": "ipython",
    "version": 3
   },
   "file_extension": ".py",
   "mimetype": "text/x-python",
   "name": "python",
   "nbconvert_exporter": "python",
   "pygments_lexer": "ipython3",
   "version": "3.9.12"
  }
 },
 "nbformat": 4,
 "nbformat_minor": 2
}
